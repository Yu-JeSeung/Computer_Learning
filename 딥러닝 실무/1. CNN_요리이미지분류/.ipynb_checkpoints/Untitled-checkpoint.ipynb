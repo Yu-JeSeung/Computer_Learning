{
 "cells": [
  {
   "cell_type": "code",
   "execution_count": null,
   "id": "d308272a",
   "metadata": {},
   "outputs": [],
   "source": [
    "# cnn_model2.py 파일 코드\n",
    "from tensorflow.keras.models import Sequential\n",
    "from tensorflow.keras.layers import Conv2D, MaxPool2D, Dense, Flatten, Dropout\n",
    "from tensorflow.keras.optimizers import Adam\n",
    "\n",
    "def def_model2(in_shape, nb_classes):\n",
    "    model = Sequential()\n",
    "    model.add(Conv2D(filters = 32, kernel_size = 3, padding = 'same', activation = 'relu', input_shape = in_shape))\n",
    "    model.add(Conv2D(filters = 32, kernel_size = 3, padding = 'same', activation = 'relu'))\n",
    "    model.add(MaxPool2D(pool_size = (2, 2), strides = 2, padding = 'same'))\n",
    "    model.add(Dropout(0.2)) # 드롭아웃을 추가합니다.\n",
    "\n",
    "    model.add(Conv2D(filters = 64, kernel_size = 3, padding = 'same', activation = 'relu'))\n",
    "    model.add(Conv2D(filters = 64, kernel_size = 3, padding = 'same', activation = 'relu'))\n",
    "    model.add(MaxPool2D(pool_size = (2, 2), strides = 2, padding = 'same'))\n",
    "    model.add(Dropout(0.2)) # 드롭아웃을 추가합니다.\n",
    "\n",
    "    model.add(Conv2D(filters = 128, kernel_size = 3, padding = 'same', activation = 'relu'))\n",
    "    model.add(Conv2D(filters = 128, kernel_size = 3, padding = 'same', activation = 'relu'))\n",
    "    model.add(MaxPool2D(pool_size = (2, 2), strides = 2, padding = 'same'))\n",
    "    model.add(Dropout(0.2)) # 드롭아웃을 추가합니다.\n",
    "\n",
    "    model.add(Flatten())\n",
    "    model.add(Dense(256, activation = 'relu'))\n",
    "    model.add(Dense(nb_classes, activation = 'softmax'))\n",
    "    return model\n",
    "\n",
    "# 컴파일하고 모델 반환하기\n",
    "def get_model(in_shape, nb_classes):\n",
    "    model = def_model(in_shape, nb_classes)\n",
    "    model2.compile(\n",
    "        loss='categorical_crossentropy',\n",
    "        optimizer = Adam(1e-4),\n",
    "        metrics=['acc'])\n",
    "    return model"
   ]
  }
 ],
 "metadata": {
  "kernelspec": {
   "display_name": "Python 3",
   "language": "python",
   "name": "python3"
  },
  "language_info": {
   "codemirror_mode": {
    "name": "ipython",
    "version": 3
   },
   "file_extension": ".py",
   "mimetype": "text/x-python",
   "name": "python",
   "nbconvert_exporter": "python",
   "pygments_lexer": "ipython3",
   "version": "3.7.6"
  }
 },
 "nbformat": 4,
 "nbformat_minor": 5
}
