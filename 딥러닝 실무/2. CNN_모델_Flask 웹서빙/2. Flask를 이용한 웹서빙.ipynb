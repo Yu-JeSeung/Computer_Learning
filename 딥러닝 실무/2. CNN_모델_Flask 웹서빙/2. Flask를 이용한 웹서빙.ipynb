{
 "cells": [
  {
   "cell_type": "markdown",
   "id": "4046881e",
   "metadata": {},
   "source": [
    "# Flask 프레임워크를 이용한 웹 서빙"
   ]
  },
  {
   "cell_type": "markdown",
   "id": "601b0c68",
   "metadata": {},
   "source": [
    "## Flask 서버 구성\n",
    "- app.py\n",
    "- cnn_model.py\n",
    "- photos-cnn-model.h5\n",
    "- templates\n",
    "    - index.html\n",
    "- static\n",
    "    - uploads\n",
    "        - test-salad.jpg"
   ]
  },
  {
   "cell_type": "markdown",
   "id": "25cf8eb4",
   "metadata": {},
   "source": [
    "### 1) index.html "
   ]
  },
  {
   "cell_type": "code",
   "execution_count": null,
   "id": "611d19e9",
   "metadata": {},
   "outputs": [],
   "source": [
    "<!DOCTYPE html>\n",
    "<head>\n",
    "    <meta charset=\"utf8\">\n",
    "    <title>CNN 모델 웹서빙</title>\n",
    "    <style>\n",
    "\thtml { \n",
    "\t\tfont-size: 20px; \n",
    "                         font-weight: bold; \n",
    "             }\n",
    "            img {\n",
    "                         float: left;\n",
    "                         width: 40%;\n",
    "                         height: 50%;\n",
    "\t\tmargin: 5px;\n",
    "\t\tpadding: 5px;\n",
    "                         border: 2px solid #90C;\n",
    "            }\n",
    "            p    {\n",
    "                         clear: both;\n",
    "            }\n",
    "    </style>\n",
    "<body>\n",
    "    <div class=\"container\">\n",
    "    <h1>CNN 모델로 음식 이미지 분류</h1>\n",
    "    <h2>이미지 업로드 및 CNN 예측</h2>\n",
    "    <hr>\n",
    "    {% if filename %}<br>\n",
    "        <div>\n",
    "            <img src=\"{{filename}}\" width=500 height=450 align=left>\n",
    "        </div>   \n",
    "        <br>       \n",
    "         <p>예측 : {{label}} &nbsp;&nbsp;  정확도 : {{probability}} &nbsp;&nbsp; 칼로리 : {{cal}}</p>          \n",
    "     {% endif %}\n",
    "\n",
    "    <form method=\"post\" action=\"/upload\" enctype=\"multipart/form-data\">\n",
    "        <input type=\"file\" name=\"file\">\n",
    "        <input type=\"submit\" value=\"submit\">\n",
    "    </form>\n",
    "    </div>\n",
    "</body>\n",
    "</head>"
   ]
  },
  {
   "cell_type": "markdown",
   "id": "269ce4d9",
   "metadata": {},
   "source": [
    "### 2) app.py "
   ]
  },
  {
   "cell_type": "markdown",
   "id": "fd7f0f61",
   "metadata": {},
   "source": [
    "- pip install flask"
   ]
  },
  {
   "cell_type": "code",
   "execution_count": null,
   "id": "fbdf3da5",
   "metadata": {},
   "outputs": [
    {
     "name": "stdout",
     "output_type": "stream",
     "text": [
      " * Serving Flask app '__main__'\n",
      " * Debug mode: off\n"
     ]
    },
    {
     "name": "stderr",
     "output_type": "stream",
     "text": [
      "WARNING: This is a development server. Do not use it in a production deployment. Use a production WSGI server instead.\n",
      " * Running on http://127.0.0.1:5000\n",
      "Press CTRL+C to quit\n",
      "127.0.0.1 - - [02/Oct/2022 12:53:37] \"GET / HTTP/1.1\" 200 -\n",
      "127.0.0.1 - - [02/Oct/2022 12:53:37] \"GET /favicon.ico HTTP/1.1\" 404 -\n"
     ]
    },
    {
     "name": "stdout",
     "output_type": "stream",
     "text": [
      "/static/uploads/test-pizza.jpg\n",
      "1/1 [==============================] - 0s 135ms/step\n"
     ]
    },
    {
     "name": "stderr",
     "output_type": "stream",
     "text": [
      "127.0.0.1 - - [02/Oct/2022 12:53:43] \"POST /upload HTTP/1.1\" 200 -\n",
      "127.0.0.1 - - [02/Oct/2022 12:53:43] \"GET /static/uploads/test-pizza.jpg HTTP/1.1\" 200 -\n"
     ]
    },
    {
     "name": "stdout",
     "output_type": "stream",
     "text": [
      "[9.9709857e-01 2.7578559e-03 1.4362724e-04]\n"
     ]
    },
    {
     "name": "stderr",
     "output_type": "stream",
     "text": [
      "127.0.0.1 - - [02/Oct/2022 12:54:37] \"GET / HTTP/1.1\" 200 -\n",
      "127.0.0.1 - - [02/Oct/2022 12:54:37] \"GET /favicon.ico HTTP/1.1\" 404 -\n"
     ]
    },
    {
     "name": "stdout",
     "output_type": "stream",
     "text": [
      "/static/uploads/test-pizza.jpg\n",
      "1/1 [==============================] - 0s 80ms/step\n"
     ]
    },
    {
     "name": "stderr",
     "output_type": "stream",
     "text": [
      "127.0.0.1 - - [02/Oct/2022 12:55:03] \"POST /upload HTTP/1.1\" 200 -\n"
     ]
    },
    {
     "name": "stdout",
     "output_type": "stream",
     "text": [
      "[9.9709857e-01 2.7578559e-03 1.4362724e-04]\n"
     ]
    },
    {
     "name": "stderr",
     "output_type": "stream",
     "text": [
      "127.0.0.1 - - [02/Oct/2022 12:55:03] \"GET /static/uploads/test-pizza.jpg HTTP/1.1\" 200 -\n"
     ]
    },
    {
     "name": "stdout",
     "output_type": "stream",
     "text": [
      "/static/uploads/test-spaghetti.jpg\n",
      "1/1 [==============================] - 0s 86ms/step\n"
     ]
    },
    {
     "name": "stderr",
     "output_type": "stream",
     "text": [
      "127.0.0.1 - - [02/Oct/2022 12:55:24] \"POST /upload HTTP/1.1\" 200 -\n"
     ]
    },
    {
     "name": "stdout",
     "output_type": "stream",
     "text": [
      "[0.00128359 0.99750036 0.00121601]\n"
     ]
    },
    {
     "name": "stderr",
     "output_type": "stream",
     "text": [
      "127.0.0.1 - - [02/Oct/2022 12:55:25] \"GET /static/uploads/test-spaghetti.jpg HTTP/1.1\" 200 -\n"
     ]
    },
    {
     "name": "stdout",
     "output_type": "stream",
     "text": [
      "/static/uploads/test-sushi.jpg\n",
      "1/1 [==============================] - 0s 83ms/step\n"
     ]
    },
    {
     "name": "stderr",
     "output_type": "stream",
     "text": [
      "127.0.0.1 - - [02/Oct/2022 12:55:33] \"POST /upload HTTP/1.1\" 200 -\n"
     ]
    },
    {
     "name": "stdout",
     "output_type": "stream",
     "text": [
      "[2.1065320e-07 3.7039658e-06 9.9999607e-01]\n"
     ]
    },
    {
     "name": "stderr",
     "output_type": "stream",
     "text": [
      "127.0.0.1 - - [02/Oct/2022 12:55:34] \"GET /static/uploads/test-sushi.jpg HTTP/1.1\" 200 -\n"
     ]
    }
   ],
   "source": [
    "import cnn_model\n",
    "from flask import Flask, render_template, request, session, escape, jsonify\n",
    "import requests\n",
    "import json, os\n",
    "from flask import *\n",
    "from PIL import Image\n",
    "from tensorflow.keras.models import load_model\n",
    "import numpy as np\n",
    "\n",
    "# 테스트 이미지 변형을 위한 변수 선언\n",
    "im_rows = 32 # 이미지의 높이\n",
    "im_cols = 32 # 이미지의 너비\n",
    "im_color = 3 # 이미지의 색공간\n",
    "in_shape = (im_rows, im_cols, im_color) # 입력 이미지 차원\n",
    "nb_classes = 3 # 클래스 수\n",
    "\n",
    "LABELS = [\"피자\", \"스파게티\", \"스시\"] # 레이블의 음식 이름\n",
    "CALORIES = [266, 157, 228] # 각 레이블별 칼로리\n",
    "\n",
    "def predict(filename):    \n",
    "    # 학습된 CNN 모델과 가중치 불러오기\n",
    "    model = load_model('./model/photos-cnn-model.h5')\n",
    "    model.load_weights('./model/photos-cnn-weight.hdf5')\n",
    "    \n",
    "    # 이미지 읽어 들이기\n",
    "    print(filename)\n",
    "    img = Image.open(\"./\"+ filename)\n",
    "    img = img.convert(\"RGB\") # 색공간 변환하기\n",
    "    img = img.resize((im_cols, im_rows)) # 크기 변경하기\n",
    "    \n",
    "    # 3차원으로 데이터 변환하기\n",
    "    x = np.asarray(img)\n",
    "    x = x.reshape(-1, im_rows, im_cols, im_color)\n",
    "    x = x / 255\n",
    "    \n",
    "    # 예측하기\n",
    "    pre = model.predict([x])[0]\n",
    "    print(pre)\n",
    "    idx = pre.argmax()\n",
    "    per = round(float(pre[idx] * 100),3)\n",
    "    \n",
    "    return idx, per\n",
    "\n",
    "# app 서버 \n",
    "app = Flask(__name__)\n",
    "\n",
    "app.config['UPLOAD_FOLDER'] = 'static/uploads'\n",
    "\n",
    "@app.route('/')\n",
    "@app.route('/index')\n",
    "def index():\n",
    "    return render_template('index.html')\n",
    "\n",
    "@app.route('/upload', methods = ['POST'])\n",
    "def upload():\n",
    "    \n",
    "    file = request.files['file']\n",
    "    filename = file.filename\n",
    "    file.save(os.path.join(app.config['UPLOAD_FOLDER'], filename))\n",
    "    img_src = url_for('static', filename = 'uploads/' + filename)\n",
    "\n",
    "    label, prob = predict(img_src)\n",
    "    pred = LABELS[label] \n",
    "    cal = CALORIES[label] \n",
    "    cal = str(cal) + \"kcal\"\n",
    "    prob = str(round(prob, 2)) + \"%\"\n",
    "    \n",
    "    return render_template('index.html', filename=img_src, label=pred, probability=prob, cal=cal)\n",
    "\n",
    "if __name__=='__main__':\n",
    "    app.run('127.0.0.1', port=5000)    "
   ]
  },
  {
   "cell_type": "code",
   "execution_count": null,
   "id": "8b00f014",
   "metadata": {},
   "outputs": [],
   "source": []
  },
  {
   "cell_type": "code",
   "execution_count": null,
   "id": "1de97e85",
   "metadata": {},
   "outputs": [],
   "source": []
  }
 ],
 "metadata": {
  "kernelspec": {
   "display_name": "Python 3 (ipykernel)",
   "language": "python",
   "name": "python3"
  },
  "language_info": {
   "codemirror_mode": {
    "name": "ipython",
    "version": 3
   },
   "file_extension": ".py",
   "mimetype": "text/x-python",
   "name": "python",
   "nbconvert_exporter": "python",
   "pygments_lexer": "ipython3",
   "version": "3.11.3"
  }
 },
 "nbformat": 4,
 "nbformat_minor": 5
}
